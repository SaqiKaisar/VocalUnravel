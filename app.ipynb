{
  "nbformat": 4,
  "nbformat_minor": 0,
  "metadata": {
    "colab": {
      "provenance": [],
      "gpuType": "T4"
    },
    "kernelspec": {
      "name": "python3",
      "display_name": "Python 3"
    },
    "language_info": {
      "name": "python"
    },
    "accelerator": "GPU"
  },
  "cells": [
    {
      "cell_type": "markdown",
      "source": [
        "##**Connect to T4 GPU Runtime."
      ],
      "metadata": {
        "id": "t4es1jlyPEUq"
      }
    },
    {
      "cell_type": "markdown",
      "source": [
        "##1.Mount your google drive\n"
      ],
      "metadata": {
        "id": "wm2-reIxN3q1"
      }
    },
    {
      "cell_type": "code",
      "execution_count": null,
      "metadata": {
        "id": "QDwPnXDyEHhs"
      },
      "outputs": [],
      "source": [
        "from google.colab import drive\n",
        "drive.mount('/content/drive')"
      ]
    },
    {
      "cell_type": "markdown",
      "source": [
        "##2.Navigate to where you have saved the repository on your drive"
      ],
      "metadata": {
        "id": "Ajkp9b78OWSL"
      }
    },
    {
      "cell_type": "code",
      "source": [
        "# Navigate to the project directory\n",
        "%cd /content/drive/My Drive/Wave-U-Net-Pytorch"
      ],
      "metadata": {
        "id": "1dxOeurQExT6"
      },
      "execution_count": null,
      "outputs": []
    },
    {
      "cell_type": "markdown",
      "source": [
        "##3.Install the dependencies"
      ],
      "metadata": {
        "id": "ATKlyiUTOhJT"
      }
    },
    {
      "cell_type": "code",
      "source": [
        "!pip install -r requirements.txt"
      ],
      "metadata": {
        "id": "t2H3MuZEE7ql"
      },
      "execution_count": null,
      "outputs": []
    },
    {
      "cell_type": "code",
      "source": [
        "!pip install gradio pydub"
      ],
      "metadata": {
        "id": "zwxOnhQZMYW0"
      },
      "execution_count": null,
      "outputs": []
    },
    {
      "cell_type": "markdown",
      "source": [
        "##4.Run this cell to execute the applicaton."
      ],
      "metadata": {
        "id": "Xo51yphbPVMZ"
      }
    },
    {
      "cell_type": "code",
      "source": [
        "import gradio as gr\n",
        "import soundfile as sf\n",
        "import os\n",
        "import numpy as np\n",
        "import subprocess\n",
        "import torch\n",
        "\n",
        "def process_audio(audio):\n",
        "    if audio is None:\n",
        "        return None, None, None, None\n",
        "\n",
        "    audio_path = audio  # Unpack the audio tuple from Gradio\n",
        "    audio_data, sample_rate = sf.read(audio_path)\n",
        "\n",
        "    if len(audio_data.shape) > 1:\n",
        "        audio_data = np.mean(audio_data, axis=1)\n",
        "\n",
        "    # Define the directory to save the uploaded audio\n",
        "    save_dir = \"uploads\"\n",
        "    os.makedirs(save_dir, exist_ok=True)\n",
        "\n",
        "    # Define the path for the saved file\n",
        "    file_path = os.path.join(save_dir, \"uploaded_audio.wav\")\n",
        "\n",
        "    sf.write(file_path, audio_data, sample_rate)\n",
        "\n",
        "    # Construct the command to execute\n",
        "    command = [\n",
        "        \"python\", \"predict.py\",\n",
        "        \"--load_model\", \"checkpoints/waveunet/model\",\n",
        "        \"--input\", \"uploads/uploaded_audio.wav\"\n",
        "    ]\n",
        "\n",
        "    # Check if CUDA is available\n",
        "    if torch.cuda.is_available():\n",
        "        command.append(\"--cuda\")\n",
        "\n",
        "    # Run the command and wait for completion\n",
        "    try:\n",
        "        subprocess.run(command, check=True)  # Wait until completion\n",
        "    except subprocess.CalledProcessError as e:\n",
        "        print(f\"Error: {e}\")\n",
        "        return None, None, None, None\n",
        "\n",
        "    # After subprocess completes, process the output files\n",
        "    result_directory = \"uploads\"\n",
        "\n",
        "    # Get all .wav files in the result directory\n",
        "    wav_files = [file for file in os.listdir(result_directory) if file.endswith(\".wav\")]\n",
        "\n",
        "    # Exclude the file named \"uploaded_audio.wav\"\n",
        "    filtered_files = [os.path.join(result_directory, file) for file in wav_files if file != \"uploaded_audio.wav\"]\n",
        "\n",
        "    # Ensure we have at least four output files (Bass, Drums, Others, Vocals)\n",
        "    while len(filtered_files) < 4:\n",
        "        filtered_files.append(None)\n",
        "\n",
        "    # Return the audio paths for the outputs\n",
        "    return filtered_files[0], filtered_files[1], filtered_files[2], filtered_files[3]\n",
        "\n",
        "# Define the Gradio interface with a title\n",
        "demo = gr.Interface(\n",
        "    fn=process_audio,\n",
        "    inputs=gr.Audio(type=\"filepath\", label='Input Audio'),\n",
        "    outputs=[\n",
        "        gr.Audio(type=\"filepath\", label='Bass'),\n",
        "        gr.Audio(type=\"filepath\", label='Drums'),\n",
        "        gr.Audio(type=\"filepath\", label='Others'),\n",
        "        gr.Audio(type=\"filepath\", label='Vocals')\n",
        "    ],\n",
        "    title=\"Vocal Unravel: Audio Source Separation\"\n",
        ")\n",
        "\n",
        "# Launch the Gradio interface\n",
        "demo.launch(share=True)\n"
      ],
      "metadata": {
        "colab": {
          "base_uri": "https://localhost:8080/",
          "height": 610
        },
        "id": "34egB6DoLg3n",
        "outputId": "09676fde-79b1-456e-b17f-5ea58083302d"
      },
      "execution_count": 14,
      "outputs": [
        {
          "output_type": "stream",
          "name": "stdout",
          "text": [
            "Colab notebook detected. To show errors in colab notebook, set debug=True in launch()\n",
            "Running on public URL: https://73f15cf38c666214bd.gradio.live\n",
            "\n",
            "This share link expires in 72 hours. For free permanent hosting and GPU upgrades, run `gradio deploy` from Terminal to deploy to Spaces (https://huggingface.co/spaces)\n"
          ]
        },
        {
          "output_type": "display_data",
          "data": {
            "text/plain": [
              "<IPython.core.display.HTML object>"
            ],
            "text/html": [
              "<div><iframe src=\"https://73f15cf38c666214bd.gradio.live\" width=\"100%\" height=\"500\" allow=\"autoplay; camera; microphone; clipboard-read; clipboard-write;\" frameborder=\"0\" allowfullscreen></iframe></div>"
            ]
          },
          "metadata": {}
        },
        {
          "output_type": "execute_result",
          "data": {
            "text/plain": []
          },
          "metadata": {},
          "execution_count": 14
        }
      ]
    }
  ]
}